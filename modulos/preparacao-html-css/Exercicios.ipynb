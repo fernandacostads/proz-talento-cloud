{
  "nbformat": 4,
  "nbformat_minor": 0,
  "metadata": {
    "colab": {
      "provenance": []
    },
    "kernelspec": {
      "name": "python3",
      "display_name": "Python 3"
    },
    "language_info": {
      "name": "python"
    }
  },
  "cells": [
    {
      "cell_type": "markdown",
      "source": [
        "# 👾 TODOS OS EXERCÍCIOS ESTÃO AQUI. BASTA CLICAR NO BOTÃO DE PLAY ▶  CORRESPONDENTE"
      ],
      "metadata": {
        "id": "W5oNqkJGioqJ"
      }
    },
    {
      "cell_type": "markdown",
      "source": [
        "\n",
        "\n",
        "\n",
        "# 1. Declare dois arrays, cada um com um mínimo de cinco elementos, e imprima eles no terminal usando o comando print().\n",
        "\n",
        " O primeiro array deve conter os produtos de uma loja da sua escolha (loja de comida, materiais de construção, música, etc).\n",
        "\n",
        " O segundo array deve conter os anos de nascimento de familiares e amigos seus.\n",
        "\n",
        " Lembre-se de usar nomes descritivos para nomear cada variável, e de usar o tipo de dado apropriado para cada lista (strings, booleanos, números inteiros, floats).\n",
        "\n",
        "\n"
      ],
      "metadata": {
        "id": "1lHjdPgSbpZv"
      }
    },
    {
      "cell_type": "code",
      "execution_count": null,
      "metadata": {
        "colab": {
          "base_uri": "https://localhost:8080/"
        },
        "id": "EdIgB3HMbR8F",
        "outputId": "88bcc52f-cc80-4758-c928-84a590b71d93"
      },
      "outputs": [
        {
          "output_type": "stream",
          "name": "stdout",
          "text": [
            "Prdutos da loja de música:  ['Guitarra', 'Bateria', 'Violão', 'Microfone', 'Cordas']\n",
            "Anos de nascimentos:  [1987, 2001, 1986, 1964, 1991]\n"
          ]
        }
      ],
      "source": [
        "produtos_loja_musica = [\"Guitarra\", \"Bateria\", \"Violão\", \"Microfone\", \"Cordas\"]\n",
        "anos_nascimento = [1987, 2001, 1986, 1964, 1991]\n",
        "\n",
        "print(\"Prdutos da loja de música: \", produtos_loja_musica)\n",
        "print(\"Anos de nascimentos: \", anos_nascimento)"
      ]
    },
    {
      "cell_type": "markdown",
      "source": [
        "\n",
        "## 2. Copie o array apresentado embaixo no seu editor de código, e imprima no terminal:\n",
        "a quantidade de elementos que ele possui,\n",
        "o dado salvo no índice 2,\n",
        "o dado salvo no índice 9,\n",
        "e dado salvo no índice 14.\n",
        "\n",
        "lista_musicos = [ 'Djavan', 'Roberto Carlos', 'Elis Regina', 'Tom Jobim', 'Milton Nascimento', 'Chico Buarque', 'Nara Leão', 'Pitty', 'Simonal', 'Moacir Santos', 'Caetano Veloso', 'Elza Soares', 'Paulinho da Viola', 'Yamandú Costa', 'Gal Costa']\n"
      ],
      "metadata": {
        "id": "SehiA0Cyeeds"
      }
    },
    {
      "cell_type": "code",
      "source": [
        "lista_musicos = [ 'Djavan', 'Roberto Carlos', 'Elis Regina', 'Tom Jobim', 'Milton Nascimento', 'Chico Buarque', 'Nara Leão', 'Pitty', 'Simonal', 'Moacir Santos', 'Caetano Veloso', 'Elza Soares', 'Paulinho da Viola', 'Yamandú Costa', 'Gal Costa']\n",
        "\n",
        "print(\"Quantidade de elementos: \",len(lista_musicos))\n",
        "print(\"índice 2: \",lista_musicos[2])\n",
        "print(\"índice 9: \",lista_musicos[9])\n",
        "print(\"índice 14: \",lista_musicos[14])\n",
        "\n"
      ],
      "metadata": {
        "colab": {
          "base_uri": "https://localhost:8080/"
        },
        "id": "nMaD1FF_chJe",
        "outputId": "272f80c7-3e3e-41ca-bfd5-3bd88281616a"
      },
      "execution_count": null,
      "outputs": [
        {
          "output_type": "stream",
          "name": "stdout",
          "text": [
            "Quantidade de elementos:  15\n",
            "índice 2:  Elis Regina\n",
            "índice 9:  Moacir Santos\n",
            "índice 14:  Gal Costa\n"
          ]
        }
      ]
    },
    {
      "cell_type": "markdown",
      "source": [
        "# 3. Uma nova loja de cosméticos abriu no seu bairro e pediram para você elaborar um sistema que imprime na tela na frente da loja os novos produtos que chegaram. O sistema da loja já tem um array com os produtos, você precisa apenas imprimir eles no terminal, um por um.\n",
        "\n",
        "Como desafio opcional, tente imprimir cada produto com a frase \"Temos [produto] à venda!\" (ex. \"Temos máscaras faciais à venda!\").\n",
        "```\n",
        "lista_produtos = ['máscaras faciais', 'batons', 'esmaltes', 'perfumes', 'loções', 'xampus', 'sabonetes', 'delineadores']\n",
        "\n",
        "```\n",
        "\n",
        "\n"
      ],
      "metadata": {
        "id": "-77e3DUMh7Uq"
      }
    },
    {
      "cell_type": "code",
      "source": [
        "lista_produtos = ['máscaras faciais', 'batons', 'esmaltes', 'perfumes', 'loções', 'xampus', 'sabonetes', 'delineadores']\n",
        "for item in lista_produtos:\n",
        "  print(item)\n",
        "\n",
        "# parte opcional\n",
        "for item in lista_produtos:\n",
        "  print(\"\\nTemos\", item, \"à venda!\")"
      ],
      "metadata": {
        "colab": {
          "base_uri": "https://localhost:8080/"
        },
        "id": "e5ZzfI7nih5F",
        "outputId": "13f5e56d-3098-4c4a-9456-d1d8f8a8d7ce"
      },
      "execution_count": null,
      "outputs": [
        {
          "output_type": "stream",
          "name": "stdout",
          "text": [
            "máscaras faciais\n",
            "batons\n",
            "esmaltes\n",
            "perfumes\n",
            "loções\n",
            "xampus\n",
            "sabonetes\n",
            "delineadores\n",
            "\n",
            "Temos máscaras faciais à venda!\n",
            "\n",
            "Temos batons à venda!\n",
            "\n",
            "Temos esmaltes à venda!\n",
            "\n",
            "Temos perfumes à venda!\n",
            "\n",
            "Temos loções à venda!\n",
            "\n",
            "Temos xampus à venda!\n",
            "\n",
            "Temos sabonetes à venda!\n",
            "\n",
            "Temos delineadores à venda!\n"
          ]
        }
      ]
    },
    {
      "cell_type": "markdown",
      "source": [
        "# 4. A loja de cosméticos ficou muito feliz com seu trabalho e chamaram você novamente! Dessa vez, eles precisam que você atualize o array de produtos. Agora, eles estão vendendo rímel ao invés de batons, e cremes hidratantes no lugar de loções. Além disso, ficaram sem delineadores, então precisam que você remova ele da lista de produtos. Imprima a nova lista no terminal para verificar que as alterações foram realizadas corretamente.\n",
        "\n",
        "lista_produtos = ['máscaras faciais', 'batons', 'esmaltes', 'perfumes', 'loções', 'xampus', 'sabonetes', 'delineadores']\n",
        "\n",
        "Como desafio, adicione dois novos produtos da sua escolha à lista."
      ],
      "metadata": {
        "id": "W5NDwptZk__V"
      }
    },
    {
      "cell_type": "code",
      "source": [
        "lista_produtos = ['máscaras faciais', 'batons', 'esmaltes', 'perfumes', 'loções', 'xampus', 'sabonetes', 'delineadores']\n",
        "\n",
        "lista_produtos[1] = 'rímel'\n",
        "lista_produtos[4] = 'cremes hidratantes'\n",
        "lista_produtos.remove('delineadores')\n",
        "\n",
        "lista_produtos.append('pós compactos')\n",
        "lista_produtos.append('bálsamo labial')\n",
        "\n",
        "print(\"Lista atualizada de produtos:\")\n",
        "for produto in lista_produtos:\n",
        "    print(produto)\n"
      ],
      "metadata": {
        "id": "-NEbQBvnjorA",
        "colab": {
          "base_uri": "https://localhost:8080/"
        },
        "outputId": "f33ae452-16c4-4958-a4ad-ad261a00fd11"
      },
      "execution_count": null,
      "outputs": [
        {
          "output_type": "stream",
          "name": "stdout",
          "text": [
            "Lista atualizada de produtos:\n",
            "máscaras faciais\n",
            "rímel\n",
            "esmaltes\n",
            "perfumes\n",
            "cremes hidratantes\n",
            "xampus\n",
            "sabonetes\n",
            "pós compactos\n",
            "bálsamo labial\n"
          ]
        }
      ]
    }
  ]
}